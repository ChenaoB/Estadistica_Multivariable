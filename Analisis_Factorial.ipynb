{
  "nbformat": 4,
  "nbformat_minor": 0,
  "metadata": {
    "colab": {
      "provenance": []
    },
    "kernelspec": {
      "name": "python3",
      "display_name": "Python 3"
    },
    "language_info": {
      "name": "python"
    }
  },
  "cells": [
    {
      "cell_type": "code",
      "execution_count": null,
      "metadata": {
        "id": "KIRnP_ffa_hE"
      },
      "outputs": [],
      "source": [
        "# Ejemplo de análisis factorial en python utilizando la libreria factor_analyzer\n",
        "# En caso de no funcionar ejecutar el comando !pip install factor_analyzer\n",
        "import numpy as np\n",
        "from factor_analyzer import FactorAnalyzer\n",
        "import matplotlib.pyplot as plt\n",
        "import seaborn as sns\n",
        "\n",
        "Xdata = pd.read_csv('Acá debes ingresar la Database del repositorio')\n",
        "\n",
        "# Inicializamos el modelo de análisis factorial con 2 factores\n",
        "m = 3\n",
        "fa = FactorAnalyzer(n_factors=m, rotation=None, method = 'principal')\n",
        "\n",
        "# Ajustamos el modelo a nuestros datos\n",
        "fa.fit(Xdata)\n",
        "# Obtenemos los loadings (cargas) de cada variable en cada factor\n",
        "loadings = fa.loadings_\n",
        "# Obtenemos las varianzas específicas de cada variable\n",
        "VarianzaEspecifica = fa.get_uniquenesses()\n",
        "MatrizVarianzaEspefica = np.diag(VarianzaEspecifica)\n",
        "# Se determina la matriz de correlación entres las variables aleatorias de entrada y los factores\n",
        "# Imprimimos las varianzas específicas, loadings y la matriz de correlación\n",
        "print(MatrizVarianzaEspefica)\n",
        "print(loadings)\n",
        "\n",
        "# Se crea un dataframe para enseñar la forma del mapa de calor\n",
        "loadings_df = pd.DataFrame(loadings, columns=[f\"Factor {i+1}\" for i in range(m)], index=Xdata.columns)\n",
        "\n",
        "# Creamos el gráfico de calor de los factores\n",
        "plt.figure(figsize=(10, 6))\n",
        "sns.heatmap(loadings_df, annot=True, cmap=\"coolwarm\", linewidths=.5, fmt=\".2f\")\n",
        "plt.title('Gráfico de Calor de los Factores')\n",
        "plt.xlabel('Factores')\n",
        "plt.ylabel('Variables')\n",
        "plt.xticks(rotation=45, ha='right')\n",
        "plt.yticks(rotation=0)\n",
        "plt.show()"
      ]
    }
  ]
}