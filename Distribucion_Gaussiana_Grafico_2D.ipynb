{
  "nbformat": 4,
  "nbformat_minor": 0,
  "metadata": {
    "colab": {
      "provenance": []
    },
    "kernelspec": {
      "name": "python3",
      "display_name": "Python 3"
    },
    "language_info": {
      "name": "python"
    }
  },
  "cells": [
    {
      "cell_type": "markdown",
      "source": [
        "Se implementa un función de distribución Gaussiana en dos dimensiones:\n",
        "\n",
        "$f(X,Y) = \\frac{1}{2\\pi^{\\frac{p}{2}}\\left|\\Sigma\\right|^{\\frac{p}{2}}}e^{{(X- \\mu)}{\\Sigma}^{-1}{(X- \\mu)}^\\top}$\n",
        "\n",
        "En este ejemplo utilizamos la siguiente función media\n",
        "\n",
        "$\\mu = \\begin{bmatrix} 2 & 2 \\end{bmatrix}$\n",
        "\n",
        "Y la función de covarianza que utilizamos es la siguiente\n",
        "\n",
        "$\\Sigma = \\begin{bmatrix} 0.5 & 0 \\\\ 0 &0.5 \\end{bmatrix}$\n",
        "\n",
        "Finalmente se grafican las curva de nivel"
      ],
      "metadata": {
        "id": "UYN-1GyOaKgV"
      }
    },
    {
      "cell_type": "code",
      "source": [
        "import numpy as np\n",
        "import matplotlib.pyplot as plt\n",
        "from mpl_toolkits.mplot3d import Axes3D\n",
        "\n",
        "# Se definen las funciones medias y de covarianza\n",
        "Sigma = np.zeros((2,2))\n",
        "U = np.zeros((1,2))\n",
        "Sigma[0,0] = 0.5\n",
        "Sigma[1,1] = 0.5\n",
        "U[0,0] = 2\n",
        "U[0,1] = 2\n",
        "# Se calculan los parámetros de la Gaussiana\n",
        "# Se inicia por la constante de normalización\n",
        "p = U.shape[0]\n",
        "kn = (1)/(((2*np.pi)**(p/2))*((np.linalg.det(Sigma))**0.5))\n",
        "#se crea la cuadricula\n",
        "x = np.arange(0, 4, 0.1)\n",
        "y = x\n",
        "X, Y = np.meshgrid(x, y)\n",
        "X_vector = X.ravel()\n",
        "Y_vector = Y.ravel()\n",
        "# Se define el vector de la función de distribución de probabilidad en dos dimensiones\n",
        "fxy = np.zeros((X_vector.shape[0],1))\n",
        "# Se evalua la función de distribución en cada valor de entrada\n",
        "for i in range(X_vector.shape[0]):\n",
        "  A = np.array(([X_vector[i], Y_vector[i]]))\n",
        "  fxy[i]= -0.5*np.dot(A -U, np.dot(np.linalg.inv(Sigma), (A -U).T))\n",
        "# Se normaliza la función de distribución de probablidad\n",
        "fxy= kn*fxy\n",
        "# Se grafican los contornos, es decir, las curvas de nivel\n",
        "plt.contourf(X, Y, fxy.reshape(X.shape), cmap='viridis')\n",
        "plt.show()\n",
        "# Crear la figura y los ejes 3D\n",
        "fig = plt.figure()\n",
        "ax = fig.add_subplot(111, projection='3d')\n",
        "# Graficar la superficie de fxy\n",
        "surf = ax.plot_surface(X, Y, fxy.reshape(X.shape), cmap='viridis')\n",
        "\n",
        "# Etiquetas de los ejes\n",
        "ax.set_zlabel('Z')\n",
        "ax.set_xlabel('X')\n",
        "ax.set_ylabel('Y')\n",
        "# Título del gráfico\n",
        "#ax.set_title('Distribución Gaussiana en dos dimensiones')\n",
        "plt.show()"
      ],
      "metadata": {
        "id": "bO2mhDHQaKE8"
      },
      "execution_count": null,
      "outputs": []
    },
    {
      "cell_type": "code",
      "source": [],
      "metadata": {
        "id": "2WvSF8ALbDsY"
      },
      "execution_count": null,
      "outputs": []
    }
  ]
}